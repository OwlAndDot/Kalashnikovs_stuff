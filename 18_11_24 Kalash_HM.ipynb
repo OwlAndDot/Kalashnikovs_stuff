{
  "nbformat": 4,
  "nbformat_minor": 0,
  "metadata": {
    "colab": {
      "provenance": [],
      "authorship_tag": "ABX9TyP4rSleQLMNUeIJ7RT7VZDc"
    },
    "kernelspec": {
      "name": "python3",
      "display_name": "Python 3"
    },
    "language_info": {
      "name": "python"
    }
  },
  "cells": [
    {
      "cell_type": "code",
      "source": [
        "from datetime import datetime\n",
        "import traceback"
      ],
      "metadata": {
        "id": "iRPgViaBlRgY"
      },
      "execution_count": null,
      "outputs": []
    },
    {
      "cell_type": "code",
      "execution_count": null,
      "metadata": {
        "id": "nVN_jMG0VTPX"
      },
      "outputs": [],
      "source": [
        "class Film:\n",
        "  def __init__(self, name, genre, year, raiting):\n",
        "    self.name = name\n",
        "    self.genre = genre\n",
        "    self.year = year\n",
        "    self.raiting = raiting\n"
      ]
    },
    {
      "cell_type": "code",
      "source": [
        "class Movies:\n",
        "  def __init__(self):\n",
        "    self.films = {}\n",
        "\n",
        "  def add_film(self, film):\n",
        "    self.films[film.name] = list(map(lambda x:x.lower(), map(str, [film.genre,film.year,film.raiting])))\n",
        "    return f\"Film named {film.name} added to collection\"\n",
        "\n",
        "  def remove_film(self,name):\n",
        "    try:\n",
        "      del self.films[name]\n",
        "      return f\"Film named {name} was removed from collection\"\n",
        "    except Exception as e:\n",
        "      with open('error_log.txt', 'a') as f:\n",
        "        f.write(f\"\\n{'-' * 50}\\n\")\n",
        "        f.write(f\"Error occured at {datetime.now()}\\n\")\n",
        "        f.write(f\"Error {str(e)}\\n\")\n",
        "        f.write(f\"Traceback:\\n{traceback.format_exc()}\\n\")\n",
        "      f.close()\n",
        "  def print_all(self):\n",
        "    for i in self.films:\n",
        "      print(i,*self.films[i])\n",
        "\n",
        "  def search_film(self,genre):\n",
        "    spis = []\n",
        "    for i in self.films:\n",
        "      if genre.lower() in self.films[i]:\n",
        "        spis.append((i,self.films[i]))\n",
        "    if spis:\n",
        "      return spis\n",
        "    return f\"There are no films with genre named {genre}\""
      ],
      "metadata": {
        "id": "QTy-sPDtWqti"
      },
      "execution_count": null,
      "outputs": []
    },
    {
      "cell_type": "code",
      "source": [
        "Star_wars = Film(\"Star wars\", \"Adventure\", 9238, 8.1)\n",
        "Star_wars2 = Film(\"Star wars2\", \"Adventure\", 9238, 8.1)\n",
        "Inception = Film(\"Inception\", \"Sci-fi\", 2010, 8.8)\n",
        "coll = Movies()\n",
        "coll.add_film(Star_wars)\n",
        "coll.add_film(Star_wars2)\n",
        "coll.add_film(Inception)"
      ],
      "metadata": {
        "colab": {
          "base_uri": "https://localhost:8080/",
          "height": 35
        },
        "id": "7IH2EPDbWs7w",
        "outputId": "b2bddbf1-a8d3-40d2-b370-1cb0a338e181"
      },
      "execution_count": null,
      "outputs": [
        {
          "output_type": "execute_result",
          "data": {
            "text/plain": [
              "'Film named Inception added to collection'"
            ],
            "application/vnd.google.colaboratory.intrinsic+json": {
              "type": "string"
            }
          },
          "metadata": {},
          "execution_count": 117
        }
      ]
    },
    {
      "cell_type": "code",
      "source": [
        "coll.print_all()"
      ],
      "metadata": {
        "colab": {
          "base_uri": "https://localhost:8080/"
        },
        "id": "0Nsa5dtDfUSy",
        "outputId": "290e53d4-e3eb-49ce-a20c-3865825dee7c"
      },
      "execution_count": null,
      "outputs": [
        {
          "output_type": "stream",
          "name": "stdout",
          "text": [
            "Star wars adventure 9238 8.1\n",
            "Star wars2 adventure 9238 8.1\n",
            "Inception sci-fi 2010 8.8\n"
          ]
        }
      ]
    },
    {
      "cell_type": "code",
      "source": [
        "coll.search_film(\"Adventure\")"
      ],
      "metadata": {
        "colab": {
          "base_uri": "https://localhost:8080/"
        },
        "id": "dSww-L5Ah8-a",
        "outputId": "72bf4819-3a45-4d68-fce2-a456e983b58b"
      },
      "execution_count": null,
      "outputs": [
        {
          "output_type": "execute_result",
          "data": {
            "text/plain": [
              "[('Star wars', ['adventure', '9238', '8.1']),\n",
              " ('Star wars2', ['adventure', '9238', '8.1'])]"
            ]
          },
          "metadata": {},
          "execution_count": 119
        }
      ]
    },
    {
      "cell_type": "code",
      "source": [
        "coll.remove_film(\"Star wars2\")"
      ],
      "metadata": {
        "colab": {
          "base_uri": "https://localhost:8080/",
          "height": 35
        },
        "id": "xPXXQ4vKiigY",
        "outputId": "44710a91-2733-49d9-abd4-80edf18fb7e4"
      },
      "execution_count": null,
      "outputs": [
        {
          "output_type": "execute_result",
          "data": {
            "text/plain": [
              "'Film named Star wars2 was removed from collection'"
            ],
            "application/vnd.google.colaboratory.intrinsic+json": {
              "type": "string"
            }
          },
          "metadata": {},
          "execution_count": 120
        }
      ]
    },
    {
      "cell_type": "code",
      "source": [
        "coll.print_all()"
      ],
      "metadata": {
        "colab": {
          "base_uri": "https://localhost:8080/"
        },
        "id": "V_gSJ53Ni2Mf",
        "outputId": "c11d5722-6939-479a-daa8-c44d0d044452"
      },
      "execution_count": null,
      "outputs": [
        {
          "output_type": "stream",
          "name": "stdout",
          "text": [
            "Star wars adventure 9238 8.1\n",
            "Inception sci-fi 2010 8.8\n"
          ]
        }
      ]
    },
    {
      "cell_type": "code",
      "source": [
        "coll.remove_film(\";ksfdfsj\")"
      ],
      "metadata": {
        "id": "qZGeIVZJi4_l"
      },
      "execution_count": null,
      "outputs": []
    },
    {
      "cell_type": "code",
      "source": [
        "class Movie:\n",
        "  def __init__(self, name, genre, year, rating):\n",
        "    self.name = name\n",
        "    self.genre = genre\n",
        "    self.year = year\n",
        "    self.rating = rating"
      ],
      "metadata": {
        "id": "P-hPVBnJl95H"
      },
      "execution_count": 26,
      "outputs": []
    },
    {
      "cell_type": "code",
      "source": [
        "class Collection:\n",
        "  def __init__(self):\n",
        "    self.films = {}\n",
        "\n",
        "  def add_film(self, film):\n",
        "    try:\n",
        "      self.films[str(film.name).lower()] = list(map(lambda x: x.lower(), map(str, [film.name, film.genre, film.year, film.rating])))\n",
        "      return f\"В коллекцию успешно был добавлен {film.name}\"\n",
        "    except Exception as e:\n",
        "      with open('error_log.txt', 'a') as f:\n",
        "        f.write(f\"\\n{'-' * 50}\\n\")\n",
        "        f.write(f\"Error occured at {datetime.now()}\\n\")\n",
        "        f.write(f\"Error {str(e)}\\n\")\n",
        "        f.write(f\"Traceback:\\n{traceback.format_exc()}\\n\")\n",
        "      f.close()\n",
        "\n",
        "  def show_collection(self):\n",
        "    for i in self.films:\n",
        "      print(*self.films[i])\n",
        "\n",
        "  def remove_film(self, name_of_film):\n",
        "    try:\n",
        "      del self.films[str(name_of_film).lower()]\n",
        "      return f\"Из коллекции был удален {name_of_film}\"\n",
        "    except Exception as e:\n",
        "      with open('error_log.txt', 'a') as f:\n",
        "        f.write(f\"\\n{'-' * 50}\\n\")\n",
        "        f.write(f\"Error occured at {datetime.now()}\\n\")\n",
        "        f.write(f\"Error {str(e)}\\n\")\n",
        "        f.write(f\"Traceback:\\n{traceback.format_exc()}\\n\")\n",
        "      f.close()\n",
        "    return \"В коллекции такого фильма нет.\\nПопробуйте ввести название по-другому и проверьте на наличие командой show_collection\"\n",
        "\n",
        "  def poisk(self, poisk_genre):\n",
        "    spis = []\n",
        "    for i in self.films:\n",
        "      if poisk_genre.lower() in self.films[i]:\n",
        "        spis.append(self.films[i])\n",
        "    if spis:\n",
        "      return spis\n",
        "    return \"В коллекции фильмов с таким жанром нет\""
      ],
      "metadata": {
        "id": "1MtZAGeyjQos"
      },
      "execution_count": 145,
      "outputs": []
    },
    {
      "cell_type": "code",
      "source": [
        "Inception = Movie(\"Inception\", \"Sci-fi\", 2010, 8.8)\n",
        "Despicable = Movie(\"Despicable me 2\", \"mult\", 2000, 7.0)\n",
        "Holop = Movie(\"Холоп\", \"comedy\", 2019, 7.5)\n",
        "Interstellar = Movie(\"Interstellar\", \"Sci-fi\", 2014, 9.0)"
      ],
      "metadata": {
        "id": "ztgQ4GZQmj1K"
      },
      "execution_count": 135,
      "outputs": []
    },
    {
      "cell_type": "code",
      "source": [
        "collect = Collection()\n",
        "collect.add_film(Inception)"
      ],
      "metadata": {
        "colab": {
          "base_uri": "https://localhost:8080/",
          "height": 35
        },
        "id": "cDwTwh7lnL9L",
        "outputId": "1aeaa68f-a9a6-4c08-de40-3e348ce4f49e"
      },
      "execution_count": 136,
      "outputs": [
        {
          "output_type": "execute_result",
          "data": {
            "text/plain": [
              "'В коллекцию успешно был добавлен Inception'"
            ],
            "application/vnd.google.colaboratory.intrinsic+json": {
              "type": "string"
            }
          },
          "metadata": {},
          "execution_count": 136
        }
      ]
    },
    {
      "cell_type": "code",
      "source": [
        "collect.add_film(Interstellar)"
      ],
      "metadata": {
        "colab": {
          "base_uri": "https://localhost:8080/",
          "height": 35
        },
        "id": "IY7mDmUxoCk1",
        "outputId": "f0680220-8406-4dd2-825c-e8c60d770fdf"
      },
      "execution_count": 137,
      "outputs": [
        {
          "output_type": "execute_result",
          "data": {
            "text/plain": [
              "'В коллекцию успешно был добавлен Interstellar'"
            ],
            "application/vnd.google.colaboratory.intrinsic+json": {
              "type": "string"
            }
          },
          "metadata": {},
          "execution_count": 137
        }
      ]
    },
    {
      "cell_type": "code",
      "source": [
        "collect.show_collection()"
      ],
      "metadata": {
        "colab": {
          "base_uri": "https://localhost:8080/"
        },
        "id": "bHQd2L0_nRC7",
        "outputId": "41896b62-b34f-4f99-d691-c585873f0439"
      },
      "execution_count": 138,
      "outputs": [
        {
          "output_type": "stream",
          "name": "stdout",
          "text": [
            "inception sci-fi 2010 8.8\n",
            "interstellar sci-fi 2014 9.0\n"
          ]
        }
      ]
    },
    {
      "cell_type": "code",
      "source": [
        "collect.add_film(Holop)"
      ],
      "metadata": {
        "colab": {
          "base_uri": "https://localhost:8080/",
          "height": 35
        },
        "id": "vFqSjJITooFz",
        "outputId": "ad016ced-9542-4997-8dce-ecdd174b4c6a"
      },
      "execution_count": 139,
      "outputs": [
        {
          "output_type": "execute_result",
          "data": {
            "text/plain": [
              "'В коллекцию успешно был добавлен Холоп'"
            ],
            "application/vnd.google.colaboratory.intrinsic+json": {
              "type": "string"
            }
          },
          "metadata": {},
          "execution_count": 139
        }
      ]
    },
    {
      "cell_type": "code",
      "source": [
        "collect.show_collection()"
      ],
      "metadata": {
        "colab": {
          "base_uri": "https://localhost:8080/"
        },
        "id": "hFju9fZep6NP",
        "outputId": "f8d26556-2b98-4f86-d1b4-9bd190a98aec"
      },
      "execution_count": 140,
      "outputs": [
        {
          "output_type": "stream",
          "name": "stdout",
          "text": [
            "inception sci-fi 2010 8.8\n",
            "interstellar sci-fi 2014 9.0\n",
            "холоп comedy 2019 7.5\n"
          ]
        }
      ]
    },
    {
      "cell_type": "code",
      "source": [
        "collect.remove_film(\"Холоп\")"
      ],
      "metadata": {
        "colab": {
          "base_uri": "https://localhost:8080/",
          "height": 35
        },
        "id": "-iF5q-ozoGwX",
        "outputId": "4546ee28-6c39-4c31-fc75-9a8033afb2a0"
      },
      "execution_count": 141,
      "outputs": [
        {
          "output_type": "execute_result",
          "data": {
            "text/plain": [
              "'Из коллекции был удален Холоп'"
            ],
            "application/vnd.google.colaboratory.intrinsic+json": {
              "type": "string"
            }
          },
          "metadata": {},
          "execution_count": 141
        }
      ]
    },
    {
      "cell_type": "code",
      "source": [
        "collect.poisk(\"Sci-fi\")"
      ],
      "metadata": {
        "colab": {
          "base_uri": "https://localhost:8080/"
        },
        "id": "E7LdqNd6oroL",
        "outputId": "04306ffd-c128-46f8-b2f4-37b3300dc900"
      },
      "execution_count": 142,
      "outputs": [
        {
          "output_type": "execute_result",
          "data": {
            "text/plain": [
              "[['inception', 'sci-fi', '2010', '8.8'],\n",
              " ['interstellar', 'sci-fi', '2014', '9.0']]"
            ]
          },
          "metadata": {},
          "execution_count": 142
        }
      ]
    },
    {
      "cell_type": "code",
      "source": [],
      "metadata": {
        "id": "_X1OLTiSqyZk"
      },
      "execution_count": 142,
      "outputs": []
    }
  ]
}