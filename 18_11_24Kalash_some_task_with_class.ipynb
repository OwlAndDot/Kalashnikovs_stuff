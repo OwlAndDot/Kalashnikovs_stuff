{
  "nbformat": 4,
  "nbformat_minor": 0,
  "metadata": {
    "colab": {
      "provenance": [],
      "authorship_tag": "ABX9TyPqfx5fdnKrB7+Jefg0Wzhy"
    },
    "kernelspec": {
      "name": "python3",
      "display_name": "Python 3"
    },
    "language_info": {
      "name": "python"
    }
  },
  "cells": [
    {
      "cell_type": "code",
      "source": [
        "from datetime import datetime\n",
        "import traceback"
      ],
      "metadata": {
        "id": "iRPgViaBlRgY"
      },
      "execution_count": 114,
      "outputs": []
    },
    {
      "cell_type": "code",
      "execution_count": 115,
      "metadata": {
        "id": "nVN_jMG0VTPX"
      },
      "outputs": [],
      "source": [
        "class Film:\n",
        "  def __init__(self, name, genre, year, raiting):\n",
        "    self.name = name\n",
        "    self.genre = genre\n",
        "    self.year = year\n",
        "    self.raiting = raiting\n",
        ""
      ]
    },
    {
      "cell_type": "code",
      "source": [
        "class Movies:\n",
        "  def __init__(self):\n",
        "    self.films = {}\n",
        "\n",
        "  def add_film(self, film):\n",
        "    self.films[film.name] = list(map(lambda x:x.lower(), map(str, [film.genre,film.year,film.raiting])))\n",
        "    return f\"Film named {film.name} added to collection\"\n",
        "\n",
        "  def remove_film(self,name):\n",
        "    try:\n",
        "      del self.films[name]\n",
        "      return f\"Film named {name} was removed from collection\"\n",
        "    except Exception as e:\n",
        "      with open('error_log.txt', 'a') as f:\n",
        "        f.write(f\"\\n{'-' * 50}\\n\")\n",
        "        f.write(f\"Error occured at {datetime.now()}\\n\")\n",
        "        f.write(f\"Error {str(e)}\\n\")\n",
        "        f.write(f\"Traceback:\\n{traceback.format_exc()}\\n\")\n",
        "      f.close()\n",
        "  def print_all(self):\n",
        "    for i in self.films:\n",
        "      print(i,*self.films[i])\n",
        "\n",
        "  def search_film(self,genre):\n",
        "    spis = []\n",
        "    for i in self.films:\n",
        "      if genre.lower() in self.films[i]:\n",
        "        spis.append((i,self.films[i]))\n",
        "    if spis:\n",
        "      return spis\n",
        "    return f\"There are no films with genre named {genre}\""
      ],
      "metadata": {
        "id": "QTy-sPDtWqti"
      },
      "execution_count": 116,
      "outputs": []
    },
    {
      "cell_type": "code",
      "source": [
        "Star_wars = Film(\"Star wars\", \"Adventure\", 9238, 8.1)\n",
        "Star_wars2 = Film(\"Star wars2\", \"Adventure\", 9238, 8.1)\n",
        "Inception = Film(\"Inception\", \"Sci-fi\", 2010, 8.8)\n",
        "coll = Movies()\n",
        "coll.add_film(Star_wars)\n",
        "coll.add_film(Star_wars2)\n",
        "coll.add_film(Inception)"
      ],
      "metadata": {
        "colab": {
          "base_uri": "https://localhost:8080/",
          "height": 35
        },
        "id": "7IH2EPDbWs7w",
        "outputId": "b2bddbf1-a8d3-40d2-b370-1cb0a338e181"
      },
      "execution_count": 117,
      "outputs": [
        {
          "output_type": "execute_result",
          "data": {
            "text/plain": [
              "'Film named Inception added to collection'"
            ],
            "application/vnd.google.colaboratory.intrinsic+json": {
              "type": "string"
            }
          },
          "metadata": {},
          "execution_count": 117
        }
      ]
    },
    {
      "cell_type": "code",
      "source": [
        "coll.print_all()"
      ],
      "metadata": {
        "colab": {
          "base_uri": "https://localhost:8080/"
        },
        "id": "0Nsa5dtDfUSy",
        "outputId": "290e53d4-e3eb-49ce-a20c-3865825dee7c"
      },
      "execution_count": 118,
      "outputs": [
        {
          "output_type": "stream",
          "name": "stdout",
          "text": [
            "Star wars adventure 9238 8.1\n",
            "Star wars2 adventure 9238 8.1\n",
            "Inception sci-fi 2010 8.8\n"
          ]
        }
      ]
    },
    {
      "cell_type": "code",
      "source": [
        "coll.search_film(\"Adventure\")"
      ],
      "metadata": {
        "colab": {
          "base_uri": "https://localhost:8080/"
        },
        "id": "dSww-L5Ah8-a",
        "outputId": "72bf4819-3a45-4d68-fce2-a456e983b58b"
      },
      "execution_count": 119,
      "outputs": [
        {
          "output_type": "execute_result",
          "data": {
            "text/plain": [
              "[('Star wars', ['adventure', '9238', '8.1']),\n",
              " ('Star wars2', ['adventure', '9238', '8.1'])]"
            ]
          },
          "metadata": {},
          "execution_count": 119
        }
      ]
    },
    {
      "cell_type": "code",
      "source": [
        "coll.remove_film(\"Star wars2\")"
      ],
      "metadata": {
        "colab": {
          "base_uri": "https://localhost:8080/",
          "height": 35
        },
        "id": "xPXXQ4vKiigY",
        "outputId": "44710a91-2733-49d9-abd4-80edf18fb7e4"
      },
      "execution_count": 120,
      "outputs": [
        {
          "output_type": "execute_result",
          "data": {
            "text/plain": [
              "'Film named Star wars2 was removed from collection'"
            ],
            "application/vnd.google.colaboratory.intrinsic+json": {
              "type": "string"
            }
          },
          "metadata": {},
          "execution_count": 120
        }
      ]
    },
    {
      "cell_type": "code",
      "source": [
        "coll.print_all()"
      ],
      "metadata": {
        "colab": {
          "base_uri": "https://localhost:8080/"
        },
        "id": "V_gSJ53Ni2Mf",
        "outputId": "c11d5722-6939-479a-daa8-c44d0d044452"
      },
      "execution_count": 121,
      "outputs": [
        {
          "output_type": "stream",
          "name": "stdout",
          "text": [
            "Star wars adventure 9238 8.1\n",
            "Inception sci-fi 2010 8.8\n"
          ]
        }
      ]
    },
    {
      "cell_type": "code",
      "source": [
        "coll.remove_film(\";ksfdfsj\")"
      ],
      "metadata": {
        "id": "qZGeIVZJi4_l"
      },
      "execution_count": 122,
      "outputs": []
    },
    {
      "cell_type": "code",
      "source": [],
      "metadata": {
        "id": "P-hPVBnJl95H"
      },
      "execution_count": 86,
      "outputs": []
    }
  ]
}