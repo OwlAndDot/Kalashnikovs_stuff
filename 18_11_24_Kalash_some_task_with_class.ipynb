{
  "nbformat": 4,
  "nbformat_minor": 0,
  "metadata": {
    "colab": {
      "provenance": [],
      "authorship_tag": "ABX9TyOVTUR8KY8Z2MHoyLhR73iR"
    },
    "kernelspec": {
      "name": "python3",
      "display_name": "Python 3"
    },
    "language_info": {
      "name": "python"
    }
  },
  "cells": [
    {
      "cell_type": "code",
      "execution_count": 54,
      "metadata": {
        "id": "nVN_jMG0VTPX"
      },
      "outputs": [],
      "source": [
        "class Film:\n",
        "  def __init__(self, name, genre, year, raiting):\n",
        "    self.name = name\n",
        "    self.genre = genre\n",
        "    self.year = year\n",
        "    self.raiting = raiting\n",
        ""
      ]
    },
    {
      "cell_type": "code",
      "source": [
        "class Movies:\n",
        "  def __init__(self):\n",
        "    self.films = {}\n",
        "\n",
        "  def add_film(self, film):\n",
        "    self.films[film.name] = list(map(lambda x:x.lower(), map(str, [film.genre,film.year,film.raiting])))\n",
        "    return f\"Film named {film.name} added to collection\"\n",
        "\n",
        "  def remove_film(self,name):\n",
        "    try:\n",
        "      del self.films[name]\n",
        "      return f\"Film named {name} was removed from collection\"\n",
        "    except:\n",
        "      return f\"There is no film named {name}\"\n",
        "\n",
        "  def print_all(self):\n",
        "    for i in self.films:\n",
        "      print(i,*self.films[i])\n",
        "\n",
        "  def search_film(self,genre):\n",
        "    spis = []\n",
        "    for i in self.films:\n",
        "      if genre.lower() in self.films[i]:\n",
        "        spis.append((i,self.films[i]))\n",
        "    if spis:\n",
        "      return spis\n",
        "    return f\"There are no films with genre named {genre}\""
      ],
      "metadata": {
        "id": "QTy-sPDtWqti"
      },
      "execution_count": 63,
      "outputs": []
    },
    {
      "cell_type": "code",
      "source": [
        "Star_wars = Film(\"Star wars\", \"Adventure\", 9238, 8.1)\n",
        "Star_wars2 = Film(\"Star wars2\", \"Adventure\", 9238, 8.1)\n",
        "Inception = Film(\"Inception\", \"Sci-fi\", 2010, 8.8)\n",
        "coll = Movies()\n",
        "coll.add_film(Star_wars)\n",
        "coll.add_film(Star_wars2)\n",
        "coll.add_film(Inception)"
      ],
      "metadata": {
        "colab": {
          "base_uri": "https://localhost:8080/",
          "height": 35
        },
        "id": "7IH2EPDbWs7w",
        "outputId": "a39b9c07-14d4-4342-acdc-d6bedfe0360f"
      },
      "execution_count": 70,
      "outputs": [
        {
          "output_type": "execute_result",
          "data": {
            "text/plain": [
              "'Film named Inception added to collection'"
            ],
            "application/vnd.google.colaboratory.intrinsic+json": {
              "type": "string"
            }
          },
          "metadata": {},
          "execution_count": 70
        }
      ]
    },
    {
      "cell_type": "code",
      "source": [
        "coll.print_all()"
      ],
      "metadata": {
        "colab": {
          "base_uri": "https://localhost:8080/"
        },
        "id": "0Nsa5dtDfUSy",
        "outputId": "b122f765-d9f4-4b10-974e-1f27ce7edfd6"
      },
      "execution_count": 71,
      "outputs": [
        {
          "output_type": "stream",
          "name": "stdout",
          "text": [
            "Star wars adventure 9238 8.1\n",
            "Star wars2 adventure 9238 8.1\n",
            "Inception sci-fi 2010 8.8\n"
          ]
        }
      ]
    },
    {
      "cell_type": "code",
      "source": [
        "coll.search_film(\"Adventure\")"
      ],
      "metadata": {
        "colab": {
          "base_uri": "https://localhost:8080/"
        },
        "id": "dSww-L5Ah8-a",
        "outputId": "70ead736-4e59-4536-a13d-90637bf7c0ae"
      },
      "execution_count": 72,
      "outputs": [
        {
          "output_type": "execute_result",
          "data": {
            "text/plain": [
              "[('Star wars', ['adventure', '9238', '8.1']),\n",
              " ('Star wars2', ['adventure', '9238', '8.1'])]"
            ]
          },
          "metadata": {},
          "execution_count": 72
        }
      ]
    },
    {
      "cell_type": "code",
      "source": [
        "coll.remove_film(\"Star wars2\")"
      ],
      "metadata": {
        "colab": {
          "base_uri": "https://localhost:8080/",
          "height": 35
        },
        "id": "xPXXQ4vKiigY",
        "outputId": "b608432c-733a-4beb-9d96-996c196b8d85"
      },
      "execution_count": 73,
      "outputs": [
        {
          "output_type": "execute_result",
          "data": {
            "text/plain": [
              "'Film named Star wars2 was removed from collection'"
            ],
            "application/vnd.google.colaboratory.intrinsic+json": {
              "type": "string"
            }
          },
          "metadata": {},
          "execution_count": 73
        }
      ]
    },
    {
      "cell_type": "code",
      "source": [
        "coll.print_all()"
      ],
      "metadata": {
        "colab": {
          "base_uri": "https://localhost:8080/"
        },
        "id": "V_gSJ53Ni2Mf",
        "outputId": "52115056-9b2d-4c14-8f55-7e73f83e7122"
      },
      "execution_count": 74,
      "outputs": [
        {
          "output_type": "stream",
          "name": "stdout",
          "text": [
            "Star wars adventure 9238 8.1\n",
            "Inception sci-fi 2010 8.8\n"
          ]
        }
      ]
    },
    {
      "cell_type": "code",
      "source": [],
      "metadata": {
        "id": "qZGeIVZJi4_l"
      },
      "execution_count": null,
      "outputs": []
    }
  ]
}