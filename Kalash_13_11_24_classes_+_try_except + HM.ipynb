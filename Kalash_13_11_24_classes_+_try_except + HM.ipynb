{
  "nbformat": 4,
  "nbformat_minor": 0,
  "metadata": {
    "colab": {
      "provenance": [],
      "authorship_tag": "ABX9TyOnoxUAKBsewW6MfHusJSrR",
      "include_colab_link": true
    },
    "kernelspec": {
      "name": "python3",
      "display_name": "Python 3"
    },
    "language_info": {
      "name": "python"
    }
  },
  "cells": [
    {
      "cell_type": "markdown",
      "metadata": {
        "id": "view-in-github",
        "colab_type": "text"
      },
      "source": [
        "<a href=\"https://colab.research.google.com/github/OwlAndDot/Kalashnikovs_stuff/blob/master/Kalash_13_11_24_classes_%2B_try_except%20%2B%20HM.ipynb\" target=\"_parent\"><img src=\"https://colab.research.google.com/assets/colab-badge.svg\" alt=\"Open In Colab\"/></a>"
      ]
    },
    {
      "cell_type": "code",
      "source": [
        "import random\n",
        "import math"
      ],
      "metadata": {
        "id": "923JgF2CBZnI"
      },
      "execution_count": null,
      "outputs": []
    },
    {
      "cell_type": "code",
      "source": [
        "#spisok = list(set([random.randint(-10, 10) for _ in range(int(input(\"Введите кол-во рандомных чисел: \")))]))\n",
        "#print(spisok)\n",
        "#new_spisok = list(map(math.log, list(filter(lambda x: x%2==0 and x > 0, spisok))))\n",
        "new_spisok = list(map(math.log, list(filter(lambda x: x%2==0 and x > 0, list(set([random.randint(-10, 10) for _ in range(int(input(\"Введите кол-во рандомных чисел: \")))]))))))\n",
        "new_spisok"
      ],
      "metadata": {
        "colab": {
          "base_uri": "https://localhost:8080/"
        },
        "id": "aVvHfy1EBpZO",
        "outputId": "03beb99b-0b5e-4ae3-e8e0-2cd3ffe8a0bb"
      },
      "execution_count": null,
      "outputs": [
        {
          "name": "stdout",
          "output_type": "stream",
          "text": [
            "Введите кол-во рандомных чисел: 25\n"
          ]
        },
        {
          "output_type": "execute_result",
          "data": {
            "text/plain": [
              "[0.6931471805599453,\n",
              " 1.3862943611198906,\n",
              " 1.791759469228055,\n",
              " 2.0794415416798357,\n",
              " 2.302585092994046]"
            ]
          },
          "metadata": {},
          "execution_count": 21
        }
      ]
    },
    {
      "cell_type": "code",
      "execution_count": null,
      "metadata": {
        "id": "stzPD18i-Xm7"
      },
      "outputs": [],
      "source": [
        "class bank_account:\n",
        "  def __init__(self, balance):\n",
        "    self.__balance = balance\n",
        "  def __str__(self) -> str:\n",
        "    pass\n",
        "  def put_money(self, plus_of_money):\n",
        "    self.plus_of_money = plus_of_money\n",
        "    self.__balance += abs(self.plus_of_money)\n",
        "    return f\"{self.plus_of_money} putted to your balance. Now your balance is {self.__balance}\"\n",
        "  def take_money(self, minus_of_money):\n",
        "    self.minus_of_money = minus_of_money\n",
        "    if abs(self.minus_of_money) > self.__balance:\n",
        "      return \"insufficient funds\"\n",
        "    self.__balance -= abs(minus_of_money)\n",
        "    return f\"{self.plus_of_money} took from your balance. Now your balance is {self.__balance}\""
      ]
    },
    {
      "cell_type": "code",
      "source": [
        "nn = bank_account(1000)\n",
        "nn.put_money(500)\n",
        "nn.take_money(-2000)"
      ],
      "metadata": {
        "colab": {
          "base_uri": "https://localhost:8080/",
          "height": 35
        },
        "id": "2yXrCfxbF4n0",
        "outputId": "0ae7fda5-847a-453a-a7b7-10f382a2ec8a"
      },
      "execution_count": null,
      "outputs": [
        {
          "output_type": "execute_result",
          "data": {
            "text/plain": [
              "'insufficient funds'"
            ],
            "application/vnd.google.colaboratory.intrinsic+json": {
              "type": "string"
            }
          },
          "metadata": {},
          "execution_count": 41
        }
      ]
    },
    {
      "cell_type": "markdown",
      "source": [
        "Абстрактные классы позволяюь создавать так шаблоны классов.\n",
        "Нужны для того, чтобы не забыть нужные методы, по крайней мере так объяснили\n"
      ],
      "metadata": {
        "id": "soF9U4-OJR9P"
      }
    },
    {
      "cell_type": "code",
      "source": [
        "from abc import ABC, abstractmethod"
      ],
      "metadata": {
        "id": "YuAqmZ2CI3n8"
      },
      "execution_count": null,
      "outputs": []
    },
    {
      "cell_type": "code",
      "source": [
        "class Shape(ABC):\n",
        "  @abstractmethod\n",
        "  def area(self):\n",
        "    pass"
      ],
      "metadata": {
        "id": "HoLc0-ZoJA4D"
      },
      "execution_count": null,
      "outputs": []
    },
    {
      "cell_type": "code",
      "source": [
        "class Circle(Shape):\n",
        "  def __init__(self, radius):\n",
        "    self.radius = radius\n",
        "\n",
        "  def area(self):\n",
        "    return 3.14 * self.radius ** 2"
      ],
      "metadata": {
        "id": "n16n1cLlJHwC"
      },
      "execution_count": null,
      "outputs": []
    },
    {
      "cell_type": "markdown",
      "source": [
        "А теперь исключения\n"
      ],
      "metadata": {
        "id": "At5GVn4eKwsl"
      }
    },
    {
      "cell_type": "markdown",
      "source": [
        "написать класс калькулятора, который умеет обрабатывать ошибки ввода, перевода числа, неправильном считывании списка и тд"
      ],
      "metadata": {
        "id": "ABzt4JI_Mbic"
      }
    },
    {
      "cell_type": "code",
      "source": [
        "class Calc:\n",
        "  def plus(self, a, b):\n",
        "\n",
        "      try:\n",
        "\n",
        "          if isinstance(a, (int, float)) and isinstance(b, (int, float)):\n",
        "              return a + b\n",
        "\n",
        "          elif isinstance(a, list) and isinstance(b, (int, float)):\n",
        "              return [x + b for x in a]\n",
        "\n",
        "          elif isinstance(b, list) and isinstance(a, (int, float)):\n",
        "              return [x + a for x in b]\n",
        "\n",
        "          elif isinstance(a, list) and isinstance(b, str):\n",
        "              return [str(x) + b for x in a]\n",
        "\n",
        "          elif isinstance(b, list) and isinstance(a, str):\n",
        "              return [a + str(x) for x in b]\n",
        "\n",
        "          elif isinstance(a, str) and isinstance(b, str):\n",
        "              return a + b\n",
        "\n",
        "          elif isinstance(a, list) and isinstance(b, list):\n",
        "              max_len = max(len(a), len(b))\n",
        "              a_dop= a + [0] * (max_len - len(a))\n",
        "              b_dop = b + [0] * (max_len - len(b))\n",
        "              return [x + y for x, y in zip(a_dop, b_dop)]\n",
        "\n",
        "          elif isinstance(a, dict) and isinstance(b, dict):\n",
        "              result = a.copy()\n",
        "              for i, value in b.items():\n",
        "                  if i in result:\n",
        "                      try:\n",
        "                          result[i] += value\n",
        "                      except Exception as e:\n",
        "                          print(f\"Ошибка при сложении значений по ключу '{i}': {e}\")\n",
        "                          result[i] = value\n",
        "                  else:\n",
        "                      result[i] = value\n",
        "              return result\n",
        "\n",
        "          else:\n",
        "              raise TypeError(f\"Невозможно сложить объекты типа {type(a)} и {type(b)}\")\n",
        "\n",
        "      except Exception as e:\n",
        "            print(f\"Произошла ошибка: {e}\")\n",
        "            return None\n",
        "\n"
      ],
      "metadata": {
        "id": "1Pu4GQfrJskE"
      },
      "execution_count": 18,
      "outputs": []
    },
    {
      "cell_type": "code",
      "source": [
        "calc = Calc()\n",
        "\n",
        "print(calc.plus(5, 7))  # 12\n",
        "\n",
        "\n",
        "print(calc.plus(\"Hello, \", \"World!\"))  # Hello, World!\n",
        "\n",
        "\n",
        "print(calc.plus([1, 2, 3], 5))  # [6, 7, 8]\n",
        "print(calc.plus(3, [1, 2, 3]))  # [4, 5, 6]\n",
        "\n",
        "print(calc.plus([\"a\", \"b\", \"c\"], \"x\"))  # ['ax', 'bx', 'cx']\n",
        "print(calc.plus(\"start_\", [\"1\", \"2\", \"3\"]))  # ['start_1', 'start_2', 'start_3']\n",
        "\n",
        "print(calc.plus([1, 2, 3], [4, 5]))  # [5, 7, 3]\n",
        "\n",
        "print(calc.plus({'a': 1, 'b': 2}, {'b': 3, 'c': 4}))  # {'a': 1, 'b': 5, 'c': 4}\n",
        "\n",
        "\n",
        "print(calc.plus(None, 5))  # Ошибка: Нельзя сложить None с другими типами\n",
        "\n",
        "\n",
        "print(calc.plus(5, \"text\"))  # Ошибка: Типовая ошибка"
      ],
      "metadata": {
        "colab": {
          "base_uri": "https://localhost:8080/"
        },
        "id": "ZjBMBlLFOhlu",
        "outputId": "4106bea5-a80d-4931-c945-cc06dafedb0c"
      },
      "execution_count": 19,
      "outputs": [
        {
          "output_type": "stream",
          "name": "stdout",
          "text": [
            "12\n",
            "Hello, World!\n",
            "[6, 7, 8]\n",
            "[4, 5, 6]\n",
            "['ax', 'bx', 'cx']\n",
            "['start_1', 'start_2', 'start_3']\n",
            "[5, 7, 3]\n",
            "{'a': 1, 'b': 5, 'c': 4}\n",
            "Произошла ошибка: Невозможно сложить объекты типа <class 'NoneType'> и <class 'int'>\n",
            "None\n",
            "Произошла ошибка: Невозможно сложить объекты типа <class 'int'> и <class 'str'>\n",
            "None\n"
          ]
        }
      ]
    },
    {
      "cell_type": "code",
      "source": [
        "a = 5\n",
        "a = list([a])\n",
        "a"
      ],
      "metadata": {
        "colab": {
          "base_uri": "https://localhost:8080/"
        },
        "id": "sh-id_ZGOkOO",
        "outputId": "e2b2588a-a6a2-4311-9b16-1c7d3a5d9a68"
      },
      "execution_count": null,
      "outputs": [
        {
          "output_type": "execute_result",
          "data": {
            "text/plain": [
              "[5]"
            ]
          },
          "metadata": {},
          "execution_count": 81
        }
      ]
    },
    {
      "cell_type": "code",
      "source": [],
      "metadata": {
        "id": "hbjRVCUQP0ts"
      },
      "execution_count": null,
      "outputs": []
    }
  ]
}