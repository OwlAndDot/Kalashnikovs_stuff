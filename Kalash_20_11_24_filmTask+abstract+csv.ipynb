{
  "nbformat": 4,
  "nbformat_minor": 0,
  "metadata": {
    "colab": {
      "provenance": [],
      "authorship_tag": "ABX9TyOQwYEvNzdFC3R3kuFO49s5"
    },
    "kernelspec": {
      "name": "python3",
      "display_name": "Python 3"
    },
    "language_info": {
      "name": "python"
    }
  },
  "cells": [
    {
      "cell_type": "markdown",
      "source": [
        "[:) if your code is not working press here](https://avatars.mds.yandex.net/get-entity_search/9705028/784781133/SUx182_2x\n",
        ")"
      ],
      "metadata": {
        "id": "KJUrctwNPwAO"
      }
    },
    {
      "cell_type": "code",
      "source": [
        "from datetime import datetime\n",
        "import traceback\n",
        "from abc import ABC, abstractmethod\n",
        "import csv"
      ],
      "metadata": {
        "id": "0v7dwshWCmn5"
      },
      "execution_count": 141,
      "outputs": []
    },
    {
      "cell_type": "code",
      "source": [
        "class Film:\n",
        "  def __init__(self, name, genre, date, raiting):\n",
        "    self.name = name\n",
        "    self.genre = genre\n",
        "    self.date = date\n",
        "    self.raiting = raiting"
      ],
      "metadata": {
        "id": "kkRxLBVECmfh"
      },
      "execution_count": 142,
      "outputs": []
    },
    {
      "cell_type": "code",
      "source": [
        "class Collection(ABC):\n",
        "  @abstractmethod\n",
        "  def add_to_collection(self,name):\n",
        "    pass\n",
        "\n",
        "  @abstractmethod\n",
        "  def remove_from_collection(self,name):\n",
        "    pass\n",
        "\n",
        "  @abstractmethod\n",
        "  def print_all(self):\n",
        "    pass\n",
        "\n",
        "  @abstractmethod\n",
        "  def search(self, criterion):\n",
        "    pass\n",
        "\n",
        "  @abstractmethod\n",
        "  def read(self, file_name):\n",
        "    pass\n",
        "\n",
        "  @abstractmethod\n",
        "  def save(self, file_name):\n",
        "    pass"
      ],
      "metadata": {
        "id": "sKbkwKbKDCDx"
      },
      "execution_count": 165,
      "outputs": []
    },
    {
      "cell_type": "code",
      "execution_count": 144,
      "metadata": {
        "id": "OgfOv_ncCSi9"
      },
      "outputs": [],
      "source": [
        "class Movie_Collection(Collection):\n",
        "  def __init__(self):\n",
        "    self.movies = {}\n",
        "\n",
        "  def add_to_collection(self,film):\n",
        "    self.movies[film.name.lower()] = list(map(lambda x:x.lower(), map(str,[film.genre,film.date,film.raiting])))\n",
        "    return f\"Film named {film.name} added to the movie collection\"\n",
        "\n",
        "  def remove_from_collection(self,name):\n",
        "    try:\n",
        "      del self.movies[name.lower()]\n",
        "      return f\"Film named {name} was removed from movie collection\"\n",
        "    except Exception as e:\n",
        "      with open('logs.txt', 'a') as log:\n",
        "        log.write(f\"\\n{'-' * 50}\\n\")\n",
        "        log.write(f\"Error occured at {datetime.now()}\\n\")\n",
        "        log.write(f\"Error {str(e)}\\n\")\n",
        "        log.write(f\"Traceback:\\n{traceback.format_exc()}\\n\")\n",
        "      log.close()\n",
        "      print(f\"There is no film named {name} to remove\")\n",
        "\n",
        "  def search(self,genre):\n",
        "    array = []\n",
        "    for i in self.movies:\n",
        "      if genre.lower() in self.movies[i]:\n",
        "        array.append((i,*self.movies[i]))\n",
        "    if array:\n",
        "      return array\n",
        "    else:\n",
        "      return f\"There are no films with genre - {genre} in movie collection\"\n",
        "\n",
        "  def print_all(self):\n",
        "    if self.movies:\n",
        "      for i in self.movies:\n",
        "        print(i,*self.movies[i])\n",
        "    else:\n",
        "      print(\"Your collection is empty\")\n",
        "\n",
        "  def save(self, file_name):\n",
        "    with open(file_name,\"w\",newline=\"\") as file:\n",
        "      writer = csv.writer(file,delimiter=\",\")\n",
        "      writer.writerow([\"Name\",\"Genre\",\"Date\",\"Raiting\"])\n",
        "      for i in self.movies:\n",
        "        writer.writerow([i, *self.movies[i]])\n",
        "    file.close()\n",
        "\n",
        "  def read(self, file_name):\n",
        "    try:\n",
        "      with open(file_name,\"r\",newline=\"\") as file:\n",
        "        reader = csv.reader(file)\n",
        "        count = False\n",
        "        for row in reader:\n",
        "          if count:\n",
        "            self.movies[row[0]] = row[1::]\n",
        "          count = True\n",
        "    except Exception as e:\n",
        "      with open('logs.txt', 'a') as log:\n",
        "        log.write(f\"\\n{'-' * 50}\\n\")\n",
        "        log.write(f\"Error occured at {datetime.now()}\\n\")\n",
        "        log.write(f\"Error {str(e)}\\n\")\n",
        "        log.write(f\"Traceback:\\n{traceback.format_exc()}\\n\")\n",
        "      log.close()\n",
        "      print(f\"There is no file named {file_name}\")"
      ]
    },
    {
      "cell_type": "code",
      "source": [
        "Inception = Film(\"Inception\", \"Sci-fi\", 2010, 8.8)\n",
        "Despicable = Film(\"Despicable me 2\", \"mult\", 2000, 7.0)\n",
        "Holop = Film(\"Холоп\", \"comedy\", 2019, 7.5)\n",
        "Interstellar = Film(\"Interstellar\", \"Sci-fi\", 2014, 9.0)"
      ],
      "metadata": {
        "id": "PdPB-Gv3CtdB"
      },
      "execution_count": 145,
      "outputs": []
    },
    {
      "cell_type": "code",
      "source": [
        "collect = Movie_Collection()"
      ],
      "metadata": {
        "id": "--GLTofEDyF7"
      },
      "execution_count": 146,
      "outputs": []
    },
    {
      "cell_type": "code",
      "source": [
        "collect.add_to_collection(Inception)"
      ],
      "metadata": {
        "colab": {
          "base_uri": "https://localhost:8080/",
          "height": 35
        },
        "id": "xdYuVX8ND3O7",
        "outputId": "ddf7fec6-fa55-4558-a131-79555b8725ab"
      },
      "execution_count": 147,
      "outputs": [
        {
          "output_type": "execute_result",
          "data": {
            "text/plain": [
              "'Film named Inception added to the movie collection'"
            ],
            "application/vnd.google.colaboratory.intrinsic+json": {
              "type": "string"
            }
          },
          "metadata": {},
          "execution_count": 147
        }
      ]
    },
    {
      "cell_type": "code",
      "source": [
        "collect.print_all()"
      ],
      "metadata": {
        "colab": {
          "base_uri": "https://localhost:8080/"
        },
        "id": "1lu2cYJyD-ao",
        "outputId": "10a6935d-d1a5-4009-cf41-8ca9e9323fe3"
      },
      "execution_count": 148,
      "outputs": [
        {
          "output_type": "stream",
          "name": "stdout",
          "text": [
            "inception sci-fi 2010 8.8\n"
          ]
        }
      ]
    },
    {
      "cell_type": "code",
      "source": [
        "collect.remove_from_collection(\"inception\")"
      ],
      "metadata": {
        "colab": {
          "base_uri": "https://localhost:8080/",
          "height": 35
        },
        "id": "y_xiAceREBF5",
        "outputId": "f1598992-3470-481d-fa32-e45f6e3aaa6f"
      },
      "execution_count": 149,
      "outputs": [
        {
          "output_type": "execute_result",
          "data": {
            "text/plain": [
              "'Film named inception was removed from movie collection'"
            ],
            "application/vnd.google.colaboratory.intrinsic+json": {
              "type": "string"
            }
          },
          "metadata": {},
          "execution_count": 149
        }
      ]
    },
    {
      "cell_type": "code",
      "source": [
        "collect.add_to_collection(Holop)\n",
        "collect.add_to_collection(Interstellar)\n",
        "collect.add_to_collection(Despicable)\n",
        "collect.add_to_collection(Inception)"
      ],
      "metadata": {
        "colab": {
          "base_uri": "https://localhost:8080/",
          "height": 35
        },
        "id": "0t7nlr_4EG00",
        "outputId": "dcdb8213-d6b5-46b4-d615-ce45a65e0cfd"
      },
      "execution_count": 150,
      "outputs": [
        {
          "output_type": "execute_result",
          "data": {
            "text/plain": [
              "'Film named Inception added to the movie collection'"
            ],
            "application/vnd.google.colaboratory.intrinsic+json": {
              "type": "string"
            }
          },
          "metadata": {},
          "execution_count": 150
        }
      ]
    },
    {
      "cell_type": "code",
      "source": [
        "collect.print_all()"
      ],
      "metadata": {
        "colab": {
          "base_uri": "https://localhost:8080/"
        },
        "id": "62qaJpc4EvY7",
        "outputId": "a4b648c6-ec0b-40a7-e885-6a7465361640"
      },
      "execution_count": 151,
      "outputs": [
        {
          "output_type": "stream",
          "name": "stdout",
          "text": [
            "холоп comedy 2019 7.5\n",
            "interstellar sci-fi 2014 9.0\n",
            "despicable me 2 mult 2000 7.0\n",
            "inception sci-fi 2010 8.8\n"
          ]
        }
      ]
    },
    {
      "cell_type": "code",
      "source": [
        "collect.search(\"Sci-fi\")"
      ],
      "metadata": {
        "colab": {
          "base_uri": "https://localhost:8080/"
        },
        "id": "yPaPWDmvExkA",
        "outputId": "3929319e-e549-4fd7-dc8e-39c97563322e"
      },
      "execution_count": 152,
      "outputs": [
        {
          "output_type": "execute_result",
          "data": {
            "text/plain": [
              "[('interstellar', 'sci-fi', '2014', '9.0'),\n",
              " ('inception', 'sci-fi', '2010', '8.8')]"
            ]
          },
          "metadata": {},
          "execution_count": 152
        }
      ]
    },
    {
      "cell_type": "code",
      "source": [
        "collect.search(\"sci-fi\")"
      ],
      "metadata": {
        "colab": {
          "base_uri": "https://localhost:8080/"
        },
        "id": "DWydB4p0FQRp",
        "outputId": "242d2147-bb5d-410b-e861-33ad384282b9"
      },
      "execution_count": 153,
      "outputs": [
        {
          "output_type": "execute_result",
          "data": {
            "text/plain": [
              "[('interstellar', 'sci-fi', '2014', '9.0'),\n",
              " ('inception', 'sci-fi', '2010', '8.8')]"
            ]
          },
          "metadata": {},
          "execution_count": 153
        }
      ]
    },
    {
      "cell_type": "code",
      "source": [
        "collect.search(\"Mult\")"
      ],
      "metadata": {
        "colab": {
          "base_uri": "https://localhost:8080/"
        },
        "id": "3aXJWemtFTEy",
        "outputId": "43a03d18-9cc1-4a6a-c6f7-1bc0bb99927c"
      },
      "execution_count": 154,
      "outputs": [
        {
          "output_type": "execute_result",
          "data": {
            "text/plain": [
              "[('despicable me 2', 'mult', '2000', '7.0')]"
            ]
          },
          "metadata": {},
          "execution_count": 154
        }
      ]
    },
    {
      "cell_type": "code",
      "source": [
        "collect.save(\"movies.csv\")"
      ],
      "metadata": {
        "id": "cwmMvjK6FXJT"
      },
      "execution_count": 155,
      "outputs": []
    },
    {
      "cell_type": "code",
      "source": [
        "collect.save(\"movies.csv\")"
      ],
      "metadata": {
        "id": "mSi2bvZ7LJJl"
      },
      "execution_count": 156,
      "outputs": []
    },
    {
      "cell_type": "code",
      "source": [
        "collect.remove_from_collection(\"холоп\")\n",
        "collect.remove_from_collection(\"interstellar\")\n",
        "collect.remove_from_collection(\"despicable me 2\")\n",
        "collect.remove_from_collection(\"inception\")"
      ],
      "metadata": {
        "colab": {
          "base_uri": "https://localhost:8080/",
          "height": 35
        },
        "id": "wg6gyMN4LoJi",
        "outputId": "d8f005d5-a8e1-462f-c6ca-2d271c190316"
      },
      "execution_count": 157,
      "outputs": [
        {
          "output_type": "execute_result",
          "data": {
            "text/plain": [
              "'Film named inception was removed from movie collection'"
            ],
            "application/vnd.google.colaboratory.intrinsic+json": {
              "type": "string"
            }
          },
          "metadata": {},
          "execution_count": 157
        }
      ]
    },
    {
      "cell_type": "code",
      "source": [
        "collect.print_all()"
      ],
      "metadata": {
        "colab": {
          "base_uri": "https://localhost:8080/"
        },
        "id": "dzB-SWj4M5bJ",
        "outputId": "b10c82cf-9593-4d17-a3e1-77c4c27aa707"
      },
      "execution_count": 158,
      "outputs": [
        {
          "output_type": "stream",
          "name": "stdout",
          "text": [
            "Your collection is empty\n"
          ]
        }
      ]
    },
    {
      "cell_type": "code",
      "source": [
        "collect.read(\"movies.csv\")"
      ],
      "metadata": {
        "id": "cvtJM8UNOp5p"
      },
      "execution_count": 159,
      "outputs": []
    },
    {
      "cell_type": "code",
      "source": [
        "collect.print_all()"
      ],
      "metadata": {
        "colab": {
          "base_uri": "https://localhost:8080/"
        },
        "id": "fOBxmdu6PA5y",
        "outputId": "8041a664-8c02-4637-aad5-5503cbc55b45"
      },
      "execution_count": 160,
      "outputs": [
        {
          "output_type": "stream",
          "name": "stdout",
          "text": [
            "холоп comedy 2019 7.5\n",
            "interstellar sci-fi 2014 9.0\n",
            "despicable me 2 mult 2000 7.0\n",
            "inception sci-fi 2010 8.8\n"
          ]
        }
      ]
    },
    {
      "cell_type": "code",
      "source": [
        "aboba = Film(\"aboba\", \"Sci-fi\", 2010, 8.8)"
      ],
      "metadata": {
        "id": "g1_0PZxJPGQD"
      },
      "execution_count": 161,
      "outputs": []
    },
    {
      "cell_type": "code",
      "source": [
        "collect.add_to_collection(aboba)"
      ],
      "metadata": {
        "colab": {
          "base_uri": "https://localhost:8080/",
          "height": 35
        },
        "id": "wQYrBXBTPsHV",
        "outputId": "1043984a-3e56-410f-ee0a-bdef694644a7"
      },
      "execution_count": 162,
      "outputs": [
        {
          "output_type": "execute_result",
          "data": {
            "text/plain": [
              "'Film named aboba added to the movie collection'"
            ],
            "application/vnd.google.colaboratory.intrinsic+json": {
              "type": "string"
            }
          },
          "metadata": {},
          "execution_count": 162
        }
      ]
    },
    {
      "cell_type": "code",
      "source": [
        "collect.save(\"movies.csv\")"
      ],
      "metadata": {
        "id": "BxRiwOsUQaDd"
      },
      "execution_count": 163,
      "outputs": []
    },
    {
      "cell_type": "code",
      "source": [
        "collect.read(\"abbab.csv\")"
      ],
      "metadata": {
        "colab": {
          "base_uri": "https://localhost:8080/"
        },
        "id": "rzdvyuoTQdbJ",
        "outputId": "bcece6ae-c7fd-4ee3-cc8b-cce7c71b5e03"
      },
      "execution_count": 164,
      "outputs": [
        {
          "output_type": "stream",
          "name": "stdout",
          "text": [
            "There is no file named abbab.csv\n"
          ]
        }
      ]
    },
    {
      "cell_type": "code",
      "source": [],
      "metadata": {
        "id": "_uJ_xaTqRZli"
      },
      "execution_count": null,
      "outputs": []
    }
  ]
}