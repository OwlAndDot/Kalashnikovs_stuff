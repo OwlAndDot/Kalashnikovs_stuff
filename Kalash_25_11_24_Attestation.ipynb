{
  "nbformat": 4,
  "nbformat_minor": 0,
  "metadata": {
    "colab": {
      "provenance": [],
      "authorship_tag": "ABX9TyN5zb+nHFr/Yk4R3yIns8/+"
    },
    "kernelspec": {
      "name": "python3",
      "display_name": "Python 3"
    },
    "language_info": {
      "name": "python"
    }
  },
  "cells": [
    {
      "cell_type": "code",
      "execution_count": 204,
      "metadata": {
        "id": "CrKo6hOoXxwS"
      },
      "outputs": [],
      "source": [
        "from abc import ABC, abstractmethod\n",
        "import csv"
      ]
    },
    {
      "cell_type": "code",
      "source": [
        "class bank(ABC):\n",
        "  @abstractmethod\n",
        "  def new_user(self, username, balance):\n",
        "    pass\n",
        "\n",
        "  @abstractmethod\n",
        "  def check_balance(self, username):\n",
        "    pass\n",
        "\n",
        "  @abstractmethod\n",
        "  def delete_user(self, username):\n",
        "    pass\n",
        "\n",
        "  @abstractmethod\n",
        "  def add_to_user(self, username, amount):\n",
        "    pass\n",
        "\n",
        "  @abstractmethod\n",
        "  def remove_from_user(self, username, amount):\n",
        "    pass\n",
        "\n",
        "  @abstractmethod\n",
        "  def show_all(self):\n",
        "    pass"
      ],
      "metadata": {
        "id": "UxHDnO-PYDoT"
      },
      "execution_count": 205,
      "outputs": []
    },
    {
      "cell_type": "code",
      "source": [
        "class User:\n",
        "  def __init__(self, name, balance):\n",
        "      self.name = name\n",
        "      self.balance = balance"
      ],
      "metadata": {
        "id": "KlVW49w9YOFX"
      },
      "execution_count": 206,
      "outputs": []
    },
    {
      "cell_type": "code",
      "source": [
        "class Data_of_bank(bank):\n",
        "  def __init__(self):\n",
        "    self.all_users = {}\n",
        "\n",
        "  def new_user(self, user):\n",
        "    if user.balance < 0 or isinstance(user.balance, (int, float)) == False:\n",
        "      print(f\"У пользователя {user.name} какие-то проблемы с балансом!\\nПроверьте, не ввели ли вы туда отрицательное число и число ли вовсе\")\n",
        "      return\n",
        "\n",
        "    self.all_users[user.name] = user.balance\n",
        "    print(f\"В систему был добавлен  пользователь {user.name} с балансом в {user.balance} RUB\")\n",
        "    return\n",
        "\n",
        "  def check_balance(self, user):\n",
        "    try:\n",
        "      print(f\"У пользователя {user.name} всего {self.all_users[user.name]} RUB\")\n",
        "      return\n",
        "\n",
        "    except Exception as e:\n",
        "      print(\"В системе неть такого пользователя\\n\", e)\n",
        "      return\n",
        "\n",
        "  def delete_user(self, user):\n",
        "    try:\n",
        "      del self.all_users[user.name]\n",
        "      print(f\"Из системы был удален пользователь {user.name}\")\n",
        "      return\n",
        "    except Exception as e:\n",
        "      print(\"В системе неть такого пользователя\\n\", e)\n",
        "\n",
        "  def add_to_user(self, user, amount):\n",
        "    try:\n",
        "      self.all_users[user.name] += amount\n",
        "      print(f\"Пользователю {user.name} успешно было добавлено {amount} RUB\\nНовый баланс {self.all_users[user.name]} RUB\")\n",
        "      return\n",
        "\n",
        "    except Exception as e:\n",
        "      print(\"Вы ввели что-то не то\\n\", e)\n",
        "\n",
        "  def remove_from_user(self, user, amount):\n",
        "    try:\n",
        "      if self.all_users[user.name] < amount:\n",
        "        print(f\"У пользователя {user.name} недостаточно средств: {self.all_users[user.name]} RUB\")\n",
        "        return\n",
        "\n",
        "      self.all_users[user.name] -= amount\n",
        "      print(f\"Со счёта пользователя {user.name} успешно было снято {amount} RUB\\nНовый баланс {self.all_users[user.name]} RUB\")\n",
        "      return\n",
        "    except Exception as e:\n",
        "      print(\"Вы ввели что-то не то\\n\", e)\n",
        "\n",
        "  def show_all(self):\n",
        "    for user in self.all_users:\n",
        "      print(f\"{user}: {self.all_users[user]} RUB\")\n",
        "\n",
        "  def save_to_file(self, file_name):\n",
        "      with open(file_name,\"w\",newline=\"\") as file:\n",
        "        writer = csv.writer(file,delimiter=\",\")\n",
        "        writer.writerow([\"Username\", \"Balance\"])\n",
        "        for i in self.all_users:\n",
        "          writer.writerow([i, self.all_users[i]])\n",
        "      file.close()\n",
        "\n",
        "  def read(self, file_name):\n",
        "    try:\n",
        "      with open(file_name,\"r\",newline=\"\") as file:\n",
        "        reader = csv.reader(file)\n",
        "        count = False\n",
        "        for row in reader:\n",
        "          if count:\n",
        "            self.all_users[row[0]] = row[1]\n",
        "          count = True\n",
        "    except:\n",
        "      pass"
      ],
      "metadata": {
        "id": "ORQtzVBQZKoP"
      },
      "execution_count": 224,
      "outputs": []
    },
    {
      "cell_type": "code",
      "source": [
        "aboba = User(\"aboba\", 8724)"
      ],
      "metadata": {
        "id": "Ko9WJgV0aE4t"
      },
      "execution_count": 208,
      "outputs": []
    },
    {
      "cell_type": "code",
      "source": [
        "tink = Data_of_bank()\n",
        "tink.new_user(aboba)"
      ],
      "metadata": {
        "colab": {
          "base_uri": "https://localhost:8080/"
        },
        "id": "6gVfIHNyaLcp",
        "outputId": "9eece6bd-e20d-455d-a411-66aea3c3f1cb"
      },
      "execution_count": 225,
      "outputs": [
        {
          "output_type": "stream",
          "name": "stdout",
          "text": [
            "В систему был добавлен  пользователь aboba с балансом в 8724 RUB\n"
          ]
        }
      ]
    },
    {
      "cell_type": "code",
      "source": [
        "tink.check_balance(aboba)"
      ],
      "metadata": {
        "colab": {
          "base_uri": "https://localhost:8080/"
        },
        "id": "lxuvncueaSql",
        "outputId": "744cc79b-8739-4967-9c76-6c58d7213e5e"
      },
      "execution_count": 210,
      "outputs": [
        {
          "output_type": "stream",
          "name": "stdout",
          "text": [
            "У пользователя aboba всего 8724 RUB\n"
          ]
        }
      ]
    },
    {
      "cell_type": "code",
      "source": [
        "tink.add_to_user(aboba, 8.6)"
      ],
      "metadata": {
        "colab": {
          "base_uri": "https://localhost:8080/"
        },
        "id": "coPEvzdvbas_",
        "outputId": "608de629-b251-4a57-f752-39548a3ee8a8"
      },
      "execution_count": 211,
      "outputs": [
        {
          "output_type": "stream",
          "name": "stdout",
          "text": [
            "Пользователю aboba успешно было добавлено 8.6 RUB\n",
            "Новый баланс 8732.6 RUB\n"
          ]
        }
      ]
    },
    {
      "cell_type": "code",
      "source": [
        "tink.remove_from_user(aboba, \"SJKDF\")\n"
      ],
      "metadata": {
        "colab": {
          "base_uri": "https://localhost:8080/"
        },
        "id": "qU1KlSUNhYaL",
        "outputId": "62700963-1439-436d-da53-71bd4f99f755"
      },
      "execution_count": 212,
      "outputs": [
        {
          "output_type": "stream",
          "name": "stdout",
          "text": [
            "Вы ввели что-то не то\n",
            " '<' not supported between instances of 'float' and 'str'\n"
          ]
        }
      ]
    },
    {
      "cell_type": "code",
      "source": [
        "tink.show_all()"
      ],
      "metadata": {
        "colab": {
          "base_uri": "https://localhost:8080/"
        },
        "id": "mkrDsGkmem0g",
        "outputId": "eb70fec8-454e-434b-b1e0-a30fd78bb252"
      },
      "execution_count": 213,
      "outputs": [
        {
          "output_type": "stream",
          "name": "stdout",
          "text": [
            "aboba: 8732.6 RUB\n"
          ]
        }
      ]
    },
    {
      "cell_type": "code",
      "source": [
        "tink.save_to_file(\"Db.csv\")"
      ],
      "metadata": {
        "id": "wrP__G4Cjf1R"
      },
      "execution_count": 214,
      "outputs": []
    },
    {
      "cell_type": "code",
      "source": [
        "tink.delete_user(aboba)"
      ],
      "metadata": {
        "colab": {
          "base_uri": "https://localhost:8080/"
        },
        "id": "8YAQhNJXdGfj",
        "outputId": "e6bb69ca-9cda-487a-bab5-2c5a1ae3fe93"
      },
      "execution_count": 226,
      "outputs": [
        {
          "output_type": "stream",
          "name": "stdout",
          "text": [
            "Из системы был удален пользователь aboba\n"
          ]
        }
      ]
    },
    {
      "cell_type": "code",
      "source": [
        "tink.show_all()"
      ],
      "metadata": {
        "colab": {
          "base_uri": "https://localhost:8080/"
        },
        "id": "kUYUV1hQdah_",
        "outputId": "7c7a6c18-0807-4dcf-e745-44a0760739ec"
      },
      "execution_count": 229,
      "outputs": [
        {
          "output_type": "stream",
          "name": "stdout",
          "text": [
            "aboba: 8732.6 RUB\n"
          ]
        }
      ]
    },
    {
      "cell_type": "code",
      "source": [
        "tink.read(\"Db.csv\")"
      ],
      "metadata": {
        "id": "bS_EBfZweiYv"
      },
      "execution_count": 228,
      "outputs": []
    },
    {
      "cell_type": "code",
      "source": [],
      "metadata": {
        "id": "i3F3NXg7gAIp"
      },
      "execution_count": 217,
      "outputs": []
    }
  ]
}